{
 "cells": [
  {
   "cell_type": "code",
   "execution_count": null,
   "metadata": {
    "collapsed": true
   },
   "outputs": [],
   "source": [
    "# Active Learning 2\n",
    "# Carly Hulse 20034006"
   ]
  },
  {
   "cell_type": "code",
   "execution_count": 3,
   "metadata": {
    "collapsed": false
   },
   "outputs": [
    {
     "name": "stdout",
     "output_type": "stream",
     "text": [
      "What would you like to encrypt? Mayday! Mayday!\n",
      "Enter your shift value (1-26): 4\n"
     ]
    }
   ],
   "source": [
    "## Question 1\n",
    "#(a)\n",
    "#Start your program by asking the user for a text to encode and the shift value.\n",
    "#Then begin the structure of your program by entering in this loop (we’ll build on it more in a bit):\n",
    "text = input(\"What would you like to encrypt? \")\n",
    "shift = int(input(\"Enter your shift value (1-26): \"))\n",
    "\n",
    "encodedText = \"\"\n",
    "for letter in text:\n",
    "    encodedText = encodedText + letter\n",
    "#What does this loop do?\n",
    "    #the loop goes loops individually per letter of the word text and appends it to the (initially blank) string encodedText.\n",
    "    #i.e. encodedText just becomes text"
   ]
  },
  {
   "cell_type": "code",
   "execution_count": 4,
   "metadata": {
    "collapsed": false
   },
   "outputs": [
    {
     "name": "stdout",
     "output_type": "stream",
     "text": [
      "Xxxxxx! Xxxxxx!\n"
     ]
    }
   ],
   "source": [
    "#(b) Modify the program above to replace all the alphabetic characters with 'x'. \n",
    "encodedText = \"\"\n",
    "for letter in text:\n",
    "    if (letter.isalpha()):\n",
    "        if (letter.isupper()):\n",
    "            letter = 'X'\n",
    "        if (letter.islower()):\n",
    "            letter='x'\n",
    "    encodedText = encodedText + letter\n",
    "print(encodedText)"
   ]
  },
  {
   "cell_type": "code",
   "execution_count": 39,
   "metadata": {
    "collapsed": false
   },
   "outputs": [
    {
     "name": "stdout",
     "output_type": "stream",
     "text": [
      "Qechec! Qechec!\n"
     ]
    }
   ],
   "source": [
    "#(c) Cypher algorithm\n",
    "encodedText = \"\"\n",
    "for letter in text:\n",
    "    if (letter.isalpha()):\n",
    "        if (letter.isupper()):\n",
    "            crypted = ((ord(letter)-ord('A')+shift) % 26+ord('A'))\n",
    "            letter = chr(crypted)\n",
    "        if (letter.islower()):\n",
    "            crypted = ((ord(letter)-ord('a')+shift) % 26+ord('a'))\n",
    "            letter = chr(crypted)\n",
    "    encodedText = encodedText + letter\n",
    "print(encodedText)"
   ]
  },
  {
   "cell_type": "code",
   "execution_count": 24,
   "metadata": {
    "collapsed": false
   },
   "outputs": [
    {
     "name": "stdout",
     "output_type": "stream",
     "text": [
      "What would you like to decrypt? Qechec! Qechec!\n",
      "Enter your shift value (1-26): 4\n",
      "Mayday! Mayday!\n"
     ]
    }
   ],
   "source": [
    "#(d) Decryption\n",
    "encodedText = \"\"\n",
    "inpText = input(\"What would you like to decrypt? \")\n",
    "shift = int(input(\"Enter your shift value (1-26): \"))\n",
    "\n",
    "for letter in inpText:\n",
    "    if (letter.isalpha()):\n",
    "        if (letter.isupper()):\n",
    "            crypted = ((ord(letter)-ord('A')+-shift) % 26+ord('A'))\n",
    "            letter = chr(crypted)\n",
    "        if (letter.islower()):\n",
    "            crypted = ((ord(letter)-ord('a')+-shift) % 26+ord('a'))\n",
    "            letter = chr(crypted)\n",
    "    encodedText = encodedText + letter\n",
    "print(encodedText)"
   ]
  },
  {
   "cell_type": "code",
   "execution_count": null,
   "metadata": {
    "collapsed": true
   },
   "outputs": [],
   "source": [
    "## Question 2\n",
    "#Write a function called palindrome which takes a string as parameter and returns\n",
    "#True if the string is a palindrome (meaning it is the same forwards as backwards),\n",
    "#and False otherwise.\n",
    "\n",
    "#Do this by getting the reverse of a string and comparing it using ==\n",
    "# Reverse:\n",
    "\n",
    "# Get string in reverse\n",
    "# Using SLICING-create slice that starts w/ length of string, and ends at index 0;\n",
    "    #note string[::-1] is the same as string[len(string)::-1]\n",
    "test='hello'\n",
    "print(test[::-1]) #olleh\n",
    "\n",
    "#Create a function to do this:\n",
    "\n",
    "def reverse(string): \n",
    "    return string[::-1] "
   ]
  },
  {
   "cell_type": "code",
   "execution_count": 12,
   "metadata": {
    "collapsed": false
   },
   "outputs": [
    {
     "name": "stdout",
     "output_type": "stream",
     "text": [
      "olleh\n"
     ]
    }
   ],
   "source": [
    "#Define Palindrome by calling the reverse function just created\n",
    "\n",
    "def Palindrome(string): \n",
    "    rev = reverse(string) \n",
    "  \n",
    "    # Checking if both string are equal or not \n",
    "    if (string == rev): \n",
    "        return True\n",
    "    return False"
   ]
  },
  {
   "cell_type": "code",
   "execution_count": 13,
   "metadata": {
    "collapsed": false
   },
   "outputs": [
    {
     "name": "stdout",
     "output_type": "stream",
     "text": [
      "Palindrome? able was i ere i saw elba\n",
      "Yes\n"
     ]
    }
   ],
   "source": [
    "# Full thing:\n",
    "string = input(\"Palindrome? \")\n",
    "string = string.lower() #make it all lowercase so that case doesn't matter for the test\n",
    "\n",
    "def reverse(string): \n",
    "    return string[::-1] \n",
    "\n",
    "def Palindrome(string): \n",
    "    rev = reverse(string) \n",
    "  \n",
    "    # Checking if both string are equal or not \n",
    "    if (string == rev): \n",
    "        return True\n",
    "    return False\n",
    "\n",
    "ans = Palindrome(string) \n",
    "  \n",
    "if ans == 1: \n",
    "    print(\"Yes\") \n",
    "else: \n",
    "    print(\"No\") "
   ]
  },
  {
   "cell_type": "code",
   "execution_count": 21,
   "metadata": {
    "collapsed": false
   },
   "outputs": [],
   "source": [
    "# Test runs:\n",
    "#ana = Yes\n",
    "#anna = Yes\n",
    "#Anna = Yes\n",
    "#able was i ere i saw elba = Yes"
   ]
  }
 ],
 "metadata": {
  "anaconda-cloud": {},
  "kernelspec": {
   "display_name": "Python [Root]",
   "language": "python",
   "name": "Python [Root]"
  },
  "language_info": {
   "codemirror_mode": {
    "name": "ipython",
    "version": 3
   },
   "file_extension": ".py",
   "mimetype": "text/x-python",
   "name": "python",
   "nbconvert_exporter": "python",
   "pygments_lexer": "ipython3",
   "version": "3.5.2"
  }
 },
 "nbformat": 4,
 "nbformat_minor": 0
}
